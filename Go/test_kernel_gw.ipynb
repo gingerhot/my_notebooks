{
 "cells": [
  {
   "cell_type": "code",
   "execution_count": 68,
   "metadata": {},
   "outputs": [],
   "source": [
    "import (\n",
    "    \"fmt\"\n",
    "    \"encoding/json\"\n",
    "    \"net/http\"\n",
    ")"
   ]
  },
  {
   "cell_type": "code",
   "execution_count": 69,
   "metadata": {},
   "outputs": [
    {
     "name": "stdout",
     "output_type": "stream",
     "text": [
      "hello world\n",
      "12\n",
      "<nil>\n"
     ]
    }
   ],
   "source": [
    "fmt.Println(\"hello world\")"
   ]
  },
  {
   "cell_type": "code",
   "execution_count": 70,
   "metadata": {},
   "outputs": [
    {
     "name": "stdout",
     "output_type": "stream",
     "text": [
      "Hello Golang!\n"
     ]
    }
   ],
   "source": [
    "// GET /hello\n",
    "\n",
    "greeting := \"Hello Golang!\"\n",
    "greeting"
   ]
  },
  {
   "cell_type": "code",
   "execution_count": 71,
   "metadata": {},
   "outputs": [],
   "source": [
    "type Req struct {\n",
    "    http.Request\n",
    "    Path map[string]string `json:\"path\"`\n",
    "    Args map[string]string `json:\"args\"`\n",
    "}\n",
    "\n",
    "var REQUEST string = `{\"path\": {\"name\": \"World\"}}`"
   ]
  },
  {
   "cell_type": "code",
   "execution_count": 72,
   "metadata": {},
   "outputs": [
    {
     "name": "stdout",
     "output_type": "stream",
     "text": [
      "Hello World\n",
      "\n"
     ]
    }
   ],
   "source": [
    "// GET /hello/:name\n",
    "\n",
    "var req Req\n",
    "json.Unmarshal([]byte(REQUEST), &req) \n",
    "greeting = fmt.Sprintf(\"Hello %v\\n\", req.Path[\"name\"])\n",
    "\n",
    "greeting"
   ]
  }
 ],
 "metadata": {
  "kernelspec": {
   "display_name": "Go (lgo)",
   "language": "go",
   "name": "lgo"
  },
  "language_info": {
   "file_extension": "",
   "mimetype": "",
   "name": "go",
   "version": ""
  }
 },
 "nbformat": 4,
 "nbformat_minor": 2
}
